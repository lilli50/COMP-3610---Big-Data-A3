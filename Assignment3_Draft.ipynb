{
 "cells": [
  {
   "cell_type": "code",
   "execution_count": 1,
   "id": "c7a132b0-5e04-4b11-8239-3f7dd8e96ac1",
   "metadata": {},
   "outputs": [],
   "source": [
    "from datasets import load_from_disk, concatenate_datasets\n",
    "import os\n",
    "import pandas as pd\n",
    "import numpy as np\n",
    "import matplotlib.pyplot as plt\n",
    "import seaborn as sns\n",
    "import string"
   ]
  },
  {
   "cell_type": "markdown",
   "id": "7a9248a7-76ac-42ae-9981-19b19074e9cd",
   "metadata": {},
   "source": [
    "# Data Cleaning & Preprocessing"
   ]
  },
  {
   "cell_type": "markdown",
   "id": "cc7cbdee-5950-4040-912e-e4258ed2a5ca",
   "metadata": {},
   "source": [
    "Function to execute all data cleaning processes. "
   ]
  },
  {
   "cell_type": "code",
   "execution_count": 4,
   "id": "37ef825e-27ac-441d-a8b0-afce8ec5b2f6",
   "metadata": {},
   "outputs": [],
   "source": [
    "def load_and_process_categories(base_path, category):\n",
    "    review_path = os.path.join(base_path, f\"raw_review_{category}\")\n",
    "    meta_path = os.path.join(base_path, f\"raw_meta_{category}\")\n",
    "\n",
    "    review_data = load_from_disk(review_path)\n",
    "    meta_data = load_from_disk(meta_path)\n",
    "\n",
    "    #convert to pandas Dataframe\n",
    "    review_df = review_data[\"full\"].to_pandas()\n",
    "    meta_df = meta_data[\"full\"].to_pandas()\n",
    "\n",
    "    # Merge on parent_asin\n",
    "    merged_df = pd.merge(review_df, meta_df, on=\"parent_asin\", how=\"left\")\n",
    "\n",
    "    #Function to drop rows where rating is missing or not in [1–5], drop rows if text (the review body) is empty or null\n",
    "    merged_df = merged_df[merged_df[\"rating\"].between(1, 5)]\n",
    "    merged_df = merged_df[merged_df[\"text\"].notnull() & (merged_df[\"text\"].str.strip() != \"\")]\n",
    "\n",
    "    def get_brand(details, store):\n",
    "        if isinstance(details, dict) and \"brand\" in details:\n",
    "            return details[\"brand\"]\n",
    "        return store if store else \"Unknown\"\n",
    "\n",
    "    merged_df[\"brand\"] = merged_df.apply(lambda row: get_brand(row.get(\"details\", {}), row.get(\"store\")), axis=1)\n",
    "\n",
    "    # Remove duplicates\n",
    "    merged_df.drop_duplicates(subset=[\"user_id\", \"asin\", \"text\"], keep=\"first\", inplace=True)\n",
    "\n",
    "    # Derived columns\n",
    "    merged_df[\"review_length\"] = merged_df[\"text\"].str.split().str.len()\n",
    "    merged_df[\"year\"] = pd.to_datetime(merged_df[\"timestamp\"], unit=\"ms\", errors=\"coerce\").dt.year\n",
    "\n",
    "    return merged_df"
   ]
  },
  {
   "cell_type": "code",
   "execution_count": 5,
   "id": "f13aeca2-a352-484e-a2ca-2b5234589f79",
   "metadata": {},
   "outputs": [],
   "source": [
    "from bigdata_a3_utils import VALID_CATEGORIES\n",
    "all_dfs = []\n",
    "\n",
    "merged_df = load_and_process_categories(\"./review_files\", VALID_CATEGORIES[0])"
   ]
  },
  {
   "cell_type": "code",
   "execution_count": 6,
   "id": "d249d372-bb37-4fb7-9357-fea3461d5e18",
   "metadata": {},
   "outputs": [
    {
     "data": {
      "text/html": [
       "<div>\n",
       "<style scoped>\n",
       "    .dataframe tbody tr th:only-of-type {\n",
       "        vertical-align: middle;\n",
       "    }\n",
       "\n",
       "    .dataframe tbody tr th {\n",
       "        vertical-align: top;\n",
       "    }\n",
       "\n",
       "    .dataframe thead th {\n",
       "        text-align: right;\n",
       "    }\n",
       "</style>\n",
       "<table border=\"1\" class=\"dataframe\">\n",
       "  <thead>\n",
       "    <tr style=\"text-align: right;\">\n",
       "      <th></th>\n",
       "      <th>rating</th>\n",
       "      <th>title_x</th>\n",
       "      <th>text</th>\n",
       "      <th>images_x</th>\n",
       "      <th>asin</th>\n",
       "      <th>parent_asin</th>\n",
       "      <th>user_id</th>\n",
       "      <th>timestamp</th>\n",
       "      <th>helpful_vote</th>\n",
       "      <th>verified_purchase</th>\n",
       "      <th>...</th>\n",
       "      <th>videos</th>\n",
       "      <th>store</th>\n",
       "      <th>categories</th>\n",
       "      <th>details</th>\n",
       "      <th>bought_together</th>\n",
       "      <th>subtitle</th>\n",
       "      <th>author</th>\n",
       "      <th>brand</th>\n",
       "      <th>review_length</th>\n",
       "      <th>year</th>\n",
       "    </tr>\n",
       "  </thead>\n",
       "  <tbody>\n",
       "    <tr>\n",
       "      <th>701523</th>\n",
       "      <td>4.0</td>\n",
       "      <td>Four Stars</td>\n",
       "      <td>Conditioner is great  shampoo not as I expected</td>\n",
       "      <td>[]</td>\n",
       "      <td>B006YUIWKA</td>\n",
       "      <td>B006YUIWKA</td>\n",
       "      <td>AFIXGFVEGLMOTMBTJL7H3VSIETDQ</td>\n",
       "      <td>1478227021000</td>\n",
       "      <td>0</td>\n",
       "      <td>True</td>\n",
       "      <td>...</td>\n",
       "      <td>{'title': ['Celluplex Thicker Fuller Hair Seru...</td>\n",
       "      <td>Thicker Fuller Hair</td>\n",
       "      <td>[]</td>\n",
       "      <td>{\"Item Form\": \"Liquid\", \"Brand\": \"Thicker Full...</td>\n",
       "      <td>None</td>\n",
       "      <td>None</td>\n",
       "      <td>None</td>\n",
       "      <td>Thicker Fuller Hair</td>\n",
       "      <td>8</td>\n",
       "      <td>2016</td>\n",
       "    </tr>\n",
       "    <tr>\n",
       "      <th>701524</th>\n",
       "      <td>1.0</td>\n",
       "      <td>Pretty</td>\n",
       "      <td>Did not work! Used the whole bottle and my hai...</td>\n",
       "      <td>[]</td>\n",
       "      <td>B006YUIWKA</td>\n",
       "      <td>B006YUIWKA</td>\n",
       "      <td>AFV7YZFOJF564EZGET5LG45K4QEA</td>\n",
       "      <td>1480908730000</td>\n",
       "      <td>0</td>\n",
       "      <td>False</td>\n",
       "      <td>...</td>\n",
       "      <td>{'title': ['Celluplex Thicker Fuller Hair Seru...</td>\n",
       "      <td>Thicker Fuller Hair</td>\n",
       "      <td>[]</td>\n",
       "      <td>{\"Item Form\": \"Liquid\", \"Brand\": \"Thicker Full...</td>\n",
       "      <td>None</td>\n",
       "      <td>None</td>\n",
       "      <td>None</td>\n",
       "      <td>Thicker Fuller Hair</td>\n",
       "      <td>14</td>\n",
       "      <td>2016</td>\n",
       "    </tr>\n",
       "    <tr>\n",
       "      <th>701525</th>\n",
       "      <td>5.0</td>\n",
       "      <td>Great sunless tanner</td>\n",
       "      <td>Product as expected. Shipping was on time.</td>\n",
       "      <td>[]</td>\n",
       "      <td>B06ZZV9MZT</td>\n",
       "      <td>B06ZZV9MZT</td>\n",
       "      <td>AHYDCWDMMVMLBX7FY7M7JKADKRDQ</td>\n",
       "      <td>1590547974067</td>\n",
       "      <td>0</td>\n",
       "      <td>True</td>\n",
       "      <td>...</td>\n",
       "      <td>{'title': [], 'url': [], 'user_id': []}</td>\n",
       "      <td>Pharmapacks</td>\n",
       "      <td>[]</td>\n",
       "      <td>{\"Item Form\": \"Spray\", \"Skin Type\": \"All\", \"Br...</td>\n",
       "      <td>None</td>\n",
       "      <td>None</td>\n",
       "      <td>None</td>\n",
       "      <td>Pharmapacks</td>\n",
       "      <td>7</td>\n",
       "      <td>2020</td>\n",
       "    </tr>\n",
       "    <tr>\n",
       "      <th>701526</th>\n",
       "      <td>5.0</td>\n",
       "      <td>The Crown on top is a Ring!!!</td>\n",
       "      <td>Not only is it a delicious fragrance, but also...</td>\n",
       "      <td>[]</td>\n",
       "      <td>B000HB6VLE</td>\n",
       "      <td>B000HB6VLE</td>\n",
       "      <td>AF6ZIAEN7TQ2WY5ZL77F6JDPV7XQ</td>\n",
       "      <td>1184798209000</td>\n",
       "      <td>4</td>\n",
       "      <td>False</td>\n",
       "      <td>...</td>\n",
       "      <td>{'title': [], 'url': [], 'user_id': []}</td>\n",
       "      <td>None</td>\n",
       "      <td>[]</td>\n",
       "      <td>{}</td>\n",
       "      <td>None</td>\n",
       "      <td>None</td>\n",
       "      <td>None</td>\n",
       "      <td>Unknown</td>\n",
       "      <td>33</td>\n",
       "      <td>2007</td>\n",
       "    </tr>\n",
       "    <tr>\n",
       "      <th>701527</th>\n",
       "      <td>4.0</td>\n",
       "      <td>Good Shampoo/Conditioner</td>\n",
       "      <td>The conditioner doesn't really make your hair ...</td>\n",
       "      <td>[]</td>\n",
       "      <td>B0093MXHFG</td>\n",
       "      <td>B0093MXHFG</td>\n",
       "      <td>AGIYQU6RK6TBKBCMWKVPBPBMMJNA</td>\n",
       "      <td>1366944486000</td>\n",
       "      <td>1</td>\n",
       "      <td>True</td>\n",
       "      <td>...</td>\n",
       "      <td>{'title': [], 'url': [], 'user_id': []}</td>\n",
       "      <td>Iden</td>\n",
       "      <td>[]</td>\n",
       "      <td>{\"Product Benefits\": \"Massage,Color Safe,Nouri...</td>\n",
       "      <td>None</td>\n",
       "      <td>None</td>\n",
       "      <td>None</td>\n",
       "      <td>Iden</td>\n",
       "      <td>47</td>\n",
       "      <td>2013</td>\n",
       "    </tr>\n",
       "  </tbody>\n",
       "</table>\n",
       "<p>5 rows × 28 columns</p>\n",
       "</div>"
      ],
      "text/plain": [
       "        rating                        title_x  \\\n",
       "701523     4.0                     Four Stars   \n",
       "701524     1.0                         Pretty   \n",
       "701525     5.0           Great sunless tanner   \n",
       "701526     5.0  The Crown on top is a Ring!!!   \n",
       "701527     4.0       Good Shampoo/Conditioner   \n",
       "\n",
       "                                                     text images_x  \\\n",
       "701523    Conditioner is great  shampoo not as I expected       []   \n",
       "701524  Did not work! Used the whole bottle and my hai...       []   \n",
       "701525         Product as expected. Shipping was on time.       []   \n",
       "701526  Not only is it a delicious fragrance, but also...       []   \n",
       "701527  The conditioner doesn't really make your hair ...       []   \n",
       "\n",
       "              asin parent_asin                       user_id      timestamp  \\\n",
       "701523  B006YUIWKA  B006YUIWKA  AFIXGFVEGLMOTMBTJL7H3VSIETDQ  1478227021000   \n",
       "701524  B006YUIWKA  B006YUIWKA  AFV7YZFOJF564EZGET5LG45K4QEA  1480908730000   \n",
       "701525  B06ZZV9MZT  B06ZZV9MZT  AHYDCWDMMVMLBX7FY7M7JKADKRDQ  1590547974067   \n",
       "701526  B000HB6VLE  B000HB6VLE  AF6ZIAEN7TQ2WY5ZL77F6JDPV7XQ  1184798209000   \n",
       "701527  B0093MXHFG  B0093MXHFG  AGIYQU6RK6TBKBCMWKVPBPBMMJNA  1366944486000   \n",
       "\n",
       "        helpful_vote  verified_purchase  ...  \\\n",
       "701523             0               True  ...   \n",
       "701524             0              False  ...   \n",
       "701525             0               True  ...   \n",
       "701526             4              False  ...   \n",
       "701527             1               True  ...   \n",
       "\n",
       "                                                   videos  \\\n",
       "701523  {'title': ['Celluplex Thicker Fuller Hair Seru...   \n",
       "701524  {'title': ['Celluplex Thicker Fuller Hair Seru...   \n",
       "701525            {'title': [], 'url': [], 'user_id': []}   \n",
       "701526            {'title': [], 'url': [], 'user_id': []}   \n",
       "701527            {'title': [], 'url': [], 'user_id': []}   \n",
       "\n",
       "                      store  categories  \\\n",
       "701523  Thicker Fuller Hair          []   \n",
       "701524  Thicker Fuller Hair          []   \n",
       "701525          Pharmapacks          []   \n",
       "701526                 None          []   \n",
       "701527                 Iden          []   \n",
       "\n",
       "                                                  details bought_together  \\\n",
       "701523  {\"Item Form\": \"Liquid\", \"Brand\": \"Thicker Full...            None   \n",
       "701524  {\"Item Form\": \"Liquid\", \"Brand\": \"Thicker Full...            None   \n",
       "701525  {\"Item Form\": \"Spray\", \"Skin Type\": \"All\", \"Br...            None   \n",
       "701526                                                 {}            None   \n",
       "701527  {\"Product Benefits\": \"Massage,Color Safe,Nouri...            None   \n",
       "\n",
       "       subtitle author                brand review_length  year  \n",
       "701523     None   None  Thicker Fuller Hair             8  2016  \n",
       "701524     None   None  Thicker Fuller Hair            14  2016  \n",
       "701525     None   None          Pharmapacks             7  2020  \n",
       "701526     None   None              Unknown            33  2007  \n",
       "701527     None   None                 Iden            47  2013  \n",
       "\n",
       "[5 rows x 28 columns]"
      ]
     },
     "execution_count": 6,
     "metadata": {},
     "output_type": "execute_result"
    }
   ],
   "source": [
    "merged_df.tail(5)"
   ]
  },
  {
   "cell_type": "code",
   "execution_count": 7,
   "id": "ad7acb95-1ce2-40a7-8d58-75dff43886a4",
   "metadata": {},
   "outputs": [
    {
     "data": {
      "text/plain": [
       "rating               float64\n",
       "title_x               object\n",
       "text                  object\n",
       "images_x              object\n",
       "asin                  object\n",
       "parent_asin           object\n",
       "user_id               object\n",
       "timestamp              int64\n",
       "helpful_vote           int64\n",
       "verified_purchase       bool\n",
       "main_category         object\n",
       "title_y               object\n",
       "average_rating       float64\n",
       "rating_number          int64\n",
       "features              object\n",
       "description           object\n",
       "price                 object\n",
       "images_y              object\n",
       "videos                object\n",
       "store                 object\n",
       "categories            object\n",
       "details               object\n",
       "bought_together       object\n",
       "subtitle              object\n",
       "author                object\n",
       "brand                 object\n",
       "review_length          int64\n",
       "year                   int32\n",
       "dtype: object"
      ]
     },
     "execution_count": 7,
     "metadata": {},
     "output_type": "execute_result"
    }
   ],
   "source": [
    "merged_df.dtypes"
   ]
  },
  {
   "cell_type": "code",
   "execution_count": 10,
   "id": "74221067-5b62-4eec-b663-ac0dfc5855d7",
   "metadata": {},
   "outputs": [
    {
     "name": "stdout",
     "output_type": "stream",
     "text": [
      "year\n",
      "2000         1\n",
      "2001        11\n",
      "2002        24\n",
      "2003        56\n",
      "2004       130\n",
      "2005       265\n",
      "2006       416\n",
      "2007      1150\n",
      "2008      1251\n",
      "2009      1198\n",
      "2010      1568\n",
      "2011      1855\n",
      "2012      2774\n",
      "2013      7882\n",
      "2014     16107\n",
      "2015     35844\n",
      "2016     62042\n",
      "2017     67351\n",
      "2018     71966\n",
      "2019     98148\n",
      "2020    125427\n",
      "2021    123279\n",
      "2022     60654\n",
      "2023     14148\n",
      "Name: count, dtype: int64\n"
     ]
    }
   ],
   "source": [
    "#Output of the total reviews from each year\n",
    "print(merged_df[\"year\"].value_counts().sort_index())"
   ]
  },
  {
   "cell_type": "markdown",
   "id": "81aab2f8-9665-41e9-a005-600c0d2a4769",
   "metadata": {},
   "source": [
    "## Unified Output"
   ]
  },
  {
   "cell_type": "markdown",
   "id": "07e281c8-b184-4c65-911e-43b8ce5ffe82",
   "metadata": {},
   "source": [
    "# Exploratory Data Analysis (EDA)"
   ]
  },
  {
   "cell_type": "code",
   "execution_count": 15,
   "id": "823beffb-0f45-4985-9a75-82073f4a2fee",
   "metadata": {},
   "outputs": [
    {
     "data": {
      "image/png": "[encoded data removed]",
      "text/plain": [
       "<Figure size 640x480 with 1 Axes>"
      ]
     },
     "metadata": {},
     "output_type": "display_data"
    }
   ],
   "source": [
    "#Star Rating Histogram\n",
    "plt.hist(merged_df['rating'], bins=5, range=(1, 5), edgecolor='black', color='skyblue')\n",
    "plt.title('Star Rating Distribution')\n",
    "plt.xlabel('Rating')\n",
    "plt.ylabel('Frequency')\n",
    "plt.xticks(range(1, 6))\n",
    "plt.show()"
   ]
  },
  {
   "cell_type": "code",
   "execution_count": null,
   "id": "9443c44e-98fa-4a61-8dca-2b059d8dffdb",
   "metadata": {},
   "outputs": [],
   "source": [
    "#Bar chart showing top 10 categories\n",
    "\n",
    "#Group by category and count the reviews\n",
    "top_categories = merged_df['categories'].value_counts().head(10)\n",
    "\n",
    "# Plot the bar chart\n",
    "sns.barplot(x=top_categories.values, y=top_categories.index, palette='viridis')\n",
    "plt.title('Top 10 Categories by Review Count')\n",
    "plt.xlabel('Review Count')\n",
    "plt.ylabel('Category')\n",
    "plt.show()"
   ]
  },
  {
   "cell_type": "code",
   "execution_count": 27,
   "id": "3854dde9-7254-4fec-8aee-cf74912f0707",
   "metadata": {},
   "outputs": [
    {
     "name": "stderr",
     "output_type": "stream",
     "text": [
      "C:\\Users\\student\\AppData\\Local\\Temp\\ipykernel_14344\\1790700790.py:7: FutureWarning: \n",
      "\n",
      "Passing `palette` without assigning `hue` is deprecated and will be removed in v0.14.0. Assign the `y` variable to `hue` and set `legend=False` for the same effect.\n",
      "\n",
      "  sns.barplot(x=top_brands.values, y=top_brands.index, palette='magma')\n"
     ]
    },
    {
     "data": {
      "image/png": "[encoded data removed]",
      "text/plain": [
       "<Figure size 640x480 with 1 Axes>"
      ]
     },
     "metadata": {},
     "output_type": "display_data"
    }
   ],
   "source": [
    "#Bar chart showing top 10 brands (excluding \"Unknown\")\n",
    "\n",
    "#Filter out \"Unknown\" and count reviews by brand\n",
    "top_brands = merged_df[merged_df['brand'] != \"Unknown\"]['brand'].value_counts().head(10)\n",
    "\n",
    "# Plot the bar chart\n",
    "sns.barplot(x=top_brands.values, y=top_brands.index, palette='magma')\n",
    "plt.title('Top 10 Brands by Review Count')\n",
    "plt.xlabel('Review Count')\n",
    "plt.ylabel('Brand')\n",
    "plt.show()"
   ]
  },
  {
   "cell_type": "code",
   "execution_count": 29,
   "id": "c802b8e8-2f02-4fee-b930-cac0b45750e1",
   "metadata": {},
   "outputs": [
    {
     "data": {
      "image/png": "[encoded data removed]",
      "text/plain": [
       "<Figure size 640x480 with 1 Axes>"
      ]
     },
     "metadata": {},
     "output_type": "display_data"
    }
   ],
   "source": [
    "#Line chart of average star rating per year\n",
    "\n",
    "#Group by year and calculate average star rating\n",
    "time_trend = merged_df.groupby('year')['rating_number'].mean()\n",
    "\n",
    "# Plot the line chart\n",
    "plt.plot(time_trend.index, time_trend.values, marker='o', color='steelblue')\n",
    "plt.title('Average Star Rating Per Year')\n",
    "plt.xlabel('Year')\n",
    "plt.ylabel('Average Star Rating')\n",
    "plt.grid(True)\n",
    "plt.show()"
   ]
  },
  {
   "cell_type": "code",
   "execution_count": 33,
   "id": "8f72f0a0-6f8f-4f40-9496-93728c00826c",
   "metadata": {},
   "outputs": [
    {
     "name": "stdout",
     "output_type": "stream",
     "text": [
      "Pearson Correlation between Review Length and Star Rating: -0.02\n"
     ]
    }
   ],
   "source": [
    "#Calculate Pearson correlation\n",
    "correlation = merged_df['review_length'].corr(merged_df['rating'], method='pearson')\n",
    "\n",
    "#Print correlation result\n",
    "print(f\"Pearson Correlation between Review Length and Star Rating: {correlation:.2f}\")"
   ]
  },
  {
   "cell_type": "markdown",
   "id": "006371f8-bdd5-4c9a-8c0a-4ba3913e5ff6",
   "metadata": {},
   "source": [
    "# Binary Sentiment Prediction (Logistic Regression)"
   ]
  },
  {
   "cell_type": "code",
   "execution_count": null,
   "id": "2cce7bba-e723-48fe-93a5-31d48a88973b",
   "metadata": {},
   "outputs": [],
   "source": []
  }
 ],
 "metadata": {
  "kernelspec": {
   "display_name": "Python [conda env:base] *",
   "language": "python",
   "name": "conda-base-py"
  },
  "language_info": {
   "codemirror_mode": {
    "name": "ipython",
    "version": 3
   },
   "file_extension": ".py",
   "mimetype": "text/x-python",
   "name": "python",
   "nbconvert_exporter": "python",
   "pygments_lexer": "ipython3",
   "version": "3.12.7"
  }
 },
 "nbformat": 4,
 "nbformat_minor": 5
}
